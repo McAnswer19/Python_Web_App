{
 "cells": [
  {
   "cell_type": "code",
   "execution_count": null,
   "metadata": {},
   "outputs": [],
   "source": [
    "import sqlite3\n",
    "import pandas as pd\n",
    "import datetime\n",
    "import argparse\n",
    "import numpy as np\n"
   ]
  },
  {
   "cell_type": "code",
   "execution_count": null,
   "metadata": {},
   "outputs": [],
   "source": [
    "def replace_empty(string): \n",
    "    if string == \"\" or not string.strip():\n",
    "        return(\"NO LOCATION SPECIFIED\")\n",
    "    \n",
    "    else: \n",
    "        return(string)"
   ]
  },
  {
   "cell_type": "code",
   "execution_count": null,
   "metadata": {},
   "outputs": [],
   "source": [
    "def string_to_datetime(string):\n",
    "    # input should look something like this: '2019-07-24 14:00:18'\n",
    "    \n",
    "    time_list = []\n",
    "    \n",
    "    first_half, second_half = string.split(\" \")\n",
    "    \n",
    "    for x in first_half.split(\"-\"): \n",
    "        time_list.append(int(x))\n",
    "        \n",
    "    for x in second_half.split(\":\"): \n",
    "        time_list.append(int(x))\n",
    "        \n",
    "    datetime_object = datetime.datetime(time_list[0], time_list[1], time_list[2], time_list[3], \n",
    "                                        time_list[4], time_list[5])\n",
    "        \n",
    "    return(datetime_object)"
   ]
  },
  {
   "cell_type": "code",
   "execution_count": null,
   "metadata": {},
   "outputs": [],
   "source": [
    "\"\"\"\n",
    "Create a python program (separate from the web app) that is able to query the database and indicate \n",
    "the total hours each user was involved in counting in order to allow pay to be determined. \n",
    "It should allow a date to be provided and provide the totals for that date, the week ending on \n",
    "that date and the preceding month ending on that date. The output should be delivered \n",
    "as a csv file with a row per user. \n",
    "Invalid dates should be intentionally rejected.\n",
    "\"\"\""
   ]
  },
  {
   "cell_type": "code",
   "execution_count": null,
   "metadata": {},
   "outputs": [],
   "source": [
    "if __name__ == \"__main__\": \n",
    "    # Connecting to the traffic_db\n",
    "    db_connection  = sqlite3.connect('traffic_db')\n",
    "    db_cursor = db_connection.cursor()\n",
    "\n",
    "    parser = argparse.ArgumentParser()\n",
    "    parser.add_argument(\"date\", help=\"format example: '2019-07-24 14:00:18'\", type= str)\n",
    "\n",
    "    \n",
    "    args = parser.parse_args()\n",
    "    date = string_to_datetime(args[0])\n",
    "    \n",
    "    observations_table = pd.read_sql_query(\"SELECT * FROM vehicle_observations WHERE undone = 0\", db_connection)\n",
    "    \n",
    "    observations_table[\"location\"] = observations_table[\"location\"].apply(replace_empty)\n",
    "    observations_table[\"time\"] = observations_table[\"time\"].apply(string_to_datetime)\n",
    "    \n",
    "    \n",
    "    day_table = None\n",
    "    week_table = None\n",
    "    month_table = None\n",
    "    \n",
    "    # observations_table = observations_table[observations_table[\"time\"] > start_time]\n",
    "    # observations_table = observations_table[observations_table[\"time\"] < end_time]\n",
    "    \n",
    "    # output_table = observations_table.groupby([\"location\", \"vehicle_type\"]).sum(\n",
    "    \n",
    "    # How the hell does this work? \n",
    "    datetime.timedelta\n",
    "    \n",
    "    "
   ]
  }
 ],
 "metadata": {
  "kernelspec": {
   "display_name": "Python 3",
   "language": "python",
   "name": "python3"
  },
  "language_info": {
   "codemirror_mode": {
    "name": "ipython",
    "version": 3
   },
   "file_extension": ".py",
   "mimetype": "text/x-python",
   "name": "python",
   "nbconvert_exporter": "python",
   "pygments_lexer": "ipython3",
   "version": "3.6.5"
  },
  "varInspector": {
   "cols": {
    "lenName": 16,
    "lenType": 16,
    "lenVar": 40
   },
   "kernels_config": {
    "python": {
     "delete_cmd_postfix": "",
     "delete_cmd_prefix": "del ",
     "library": "var_list.py",
     "varRefreshCmd": "print(var_dic_list())"
    },
    "r": {
     "delete_cmd_postfix": ") ",
     "delete_cmd_prefix": "rm(",
     "library": "var_list.r",
     "varRefreshCmd": "cat(var_dic_list()) "
    }
   },
   "types_to_exclude": [
    "module",
    "function",
    "builtin_function_or_method",
    "instance",
    "_Feature"
   ],
   "window_display": false
  }
 },
 "nbformat": 4,
 "nbformat_minor": 2
}
